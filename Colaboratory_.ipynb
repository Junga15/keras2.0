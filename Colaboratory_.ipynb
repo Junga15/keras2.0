
      "source": [
        "import tensorflow as tf\r\n",
        "import numpy as np\r\n",
        "\r\n",
        "# Data\r\n",
        "x_data = [1, 2, 3, 4, 5]\r\n",
        "y_data = [1, 2, 3, 4, 5]\r\n",
        "\r\n",
        "# W, b initialize\r\n",
        "W = tf.Variable(2.9)\r\n",
        "b = tf.Variable(0.5)\r\n",
        "\r\n",
        "# W, b update\r\n",
        "for i in range(100):\r\n",
        "    # Gradient descent\r\n",
        "    with tf.GradientTape() as tape:\r\n",
        "        hypothesis = W * x_data + b\r\n",
        "        cost = tf.reduce_mean(tf.square(hypothesis - y_data))\r\n",
        "    W_grad, b_grad = tape.gradient(cost, [W, b])\r\n",
        "    learning_rate = 0.01\r\n",
        "    W.assign_sub(learning_rate * W_grad)\r\n",
        "    b.assign_sub(learning_rate * b_grad)\r\n",
        "    if i % 10 == 0:\r\n",
        "      print(\"{:5}|{:10.4f}|{:10.4f}|{:10.6f}\".format(i, W.numpy(), b.numpy(), cost))\r\n",
        "\r\n",
        "print()\r\n",
        "\r\n",
        "# predict\r\n",
        "print(W * 5 + b)\r\n",
        "print(W * 2.5 + b)"
      ],
      "execution_count": 2,
      "outputs": [
        {
          "output_type": "stream",
          "text": [
            "    0|    2.4520|    0.3760| 45.660004\n",
            "   10|    1.1036|    0.0034|  0.206336\n",
            "   20|    1.0128|   -0.0209|  0.001026\n",
            "   30|    1.0065|   -0.0218|  0.000093\n",
            "   40|    1.0059|   -0.0212|  0.000083\n",
            "   50|    1.0057|   -0.0205|  0.000077\n",
            "   60|    1.0055|   -0.0198|  0.000072\n",
            "   70|    1.0053|   -0.0192|  0.000067\n",
            "   80|    1.0051|   -0.0185|  0.000063\n",
            "   90|    1.0050|   -0.0179|  0.000059\n",
            "\n",
            "tf.Tensor(5.0066934, shape=(), dtype=float32)\n",
            "tf.Tensor(2.4946523, shape=(), dtype=float32)\n"
          ],
          "name": "stdout"
        }
      ]
    }
  ]
}
